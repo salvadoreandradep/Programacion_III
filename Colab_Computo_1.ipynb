{
  "nbformat": 4,
  "nbformat_minor": 0,
  "metadata": {
    "colab": {
      "provenance": [],
      "collapsed_sections": [
        "dPFPGJrTiizc"
      ],
      "authorship_tag": "ABX9TyNqyxKKVYeTAfBydjVBPK87",
      "include_colab_link": true
    },
    "kernelspec": {
      "name": "python3",
      "display_name": "Python 3"
    },
    "language_info": {
      "name": "python"
    }
  },
  "cells": [
    {
      "cell_type": "markdown",
      "metadata": {
        "id": "view-in-github",
        "colab_type": "text"
      },
      "source": [
        "<a href=\"https://colab.research.google.com/github/salvadoreandradep/Programacion_III/blob/main/Colab_Computo_1.ipynb\" target=\"_parent\"><img src=\"https://colab.research.google.com/assets/colab-badge.svg\" alt=\"Open In Colab\"/></a>"
      ]
    },
    {
      "cell_type": "markdown",
      "source": [
        "# **COMPUTO 1 - SALVADOR ERNESTO ANDRADE PEÑA**"
      ],
      "metadata": {
        "id": "dPFPGJrTiizc"
      }
    },
    {
      "cell_type": "markdown",
      "source": [
        "Tipo de datos"
      ],
      "metadata": {
        "id": "9rUF8Az2fpvC"
      }
    },
    {
      "cell_type": "code",
      "source": [
        "num1 = 5 #variable de tipo entero.\n",
        "num2 = 4.9 #variable de tipo double, real, decimal.\n",
        "print(\"Los valores: Num 1: \", num1, \" Num 2: \", num2)\n",
        "\n",
        "#num1 = 4.9\n",
        "print(\"Valor: Num 1: \", num1)"
      ],
      "metadata": {
        "id": "pJvQJf5nftQ6"
      },
      "execution_count": null,
      "outputs": []
    },
    {
      "cell_type": "code",
      "source": [
        "varLogica = False\n",
        "\n",
        "print(\"Variable Booleana: \", varLogica)"
      ],
      "metadata": {
        "id": "6uQeQO2Nfwth"
      },
      "execution_count": null,
      "outputs": []
    },
    {
      "cell_type": "code",
      "source": [
        "nombre = \"Luis Hernandez\"\n",
        "print(\"Mi Nombre: \", nombre, \"Iniciales: \", nombre[0], nombre[5], \"Longitud: \", len(nombre) )\n",
        "print(\"Primer Nombre: \", nombre[0:5])\n",
        "print(\"Primer Nombre: \", nombre[:5])\n",
        "print(\"Apellido: \", nombre[5:len(nombre)])\n",
        "print(\"Apellid: \", nombre[5:])\n",
        "print(\"Apellido: \", nombre[-9:])"
      ],
      "metadata": {
        "id": "k7jHEtfwfyxp"
      },
      "execution_count": null,
      "outputs": []
    },
    {
      "cell_type": "code",
      "source": [
        "print(type(num1))\n",
        "print(type(num2))\n",
        "print(type(varLogica))\n",
        "print(type(nombre))"
      ],
      "metadata": {
        "id": "qzgChYbHf0dp"
      },
      "execution_count": null,
      "outputs": []
    },
    {
      "cell_type": "code",
      "source": [
        "num1 = float(input(\"Num 1: \"))\n",
        "num2 = float(input(\"Num 2: \"))\n",
        "resp = num1 + num2\n",
        "print(\"La suma es: \", resp)"
      ],
      "metadata": {
        "id": "D56fVg4xf1_I"
      },
      "execution_count": null,
      "outputs": []
    },
    {
      "cell_type": "code",
      "source": [
        "def suma(num1, num2):\n",
        "  return num1 + num2"
      ],
      "metadata": {
        "id": "J9ArZWb4f3rJ"
      },
      "execution_count": null,
      "outputs": []
    },
    {
      "cell_type": "code",
      "source": [
        "num1 = float(input(\"Num 1: \"))\n",
        "num2 = float(input(\"N4.26um 2: \"))\n",
        "resp = suma(num1, num2)\n",
        "print(resp)"
      ],
      "metadata": {
        "id": "HawX2EoUf46o"
      },
      "execution_count": null,
      "outputs": []
    },
    {
      "cell_type": "markdown",
      "source": [
        "**Funciones de Usuario**\n",
        "\n",
        "\n",
        "*   Convertir grados celcius a farenheit\n",
        "\n",
        "\n"
      ],
      "metadata": {
        "id": "URj-rbawA9sS"
      }
    },
    {
      "cell_type": "code",
      "source": [
        "def convertir(c):\n",
        "  return c*9/5 + 32"
      ],
      "metadata": {
        "id": "FJsQWv4PBwTQ"
      },
      "execution_count": null,
      "outputs": []
    },
    {
      "cell_type": "code",
      "execution_count": null,
      "metadata": {
        "colab": {
          "base_uri": "https://localhost:8080/"
        },
        "id": "UF9-xB7gA5aI",
        "outputId": "f285feb0-0d8a-4193-ce60-182e3f615643"
      },
      "outputs": [
        {
          "output_type": "stream",
          "name": "stdout",
          "text": [
            "Celcuis: 42\n",
            "F: 107.6\n"
          ]
        }
      ],
      "source": [
        "c = float(input(\"Celcuis: \" ))\n",
        "print(\"F:\", convertir(c))"
      ]
    },
    {
      "cell_type": "markdown",
      "source": [
        "\n",
        "\n",
        "\n",
        "\n",
        "\n",
        "*   Convertir grados Farenheit a celcius\n",
        "\n",
        "\n",
        "\n",
        "\n",
        "\n"
      ],
      "metadata": {
        "id": "uo3UQT0KEzEQ"
      }
    },
    {
      "cell_type": "code",
      "source": [
        "def convertir(f):\n",
        "  return  (f-32)*5/9"
      ],
      "metadata": {
        "id": "qXP5D5llE--y"
      },
      "execution_count": null,
      "outputs": []
    },
    {
      "cell_type": "code",
      "source": [
        "f = float(input(\"Farenheit: \" ))\n",
        "print(\"°C:\", convertir(f))"
      ],
      "metadata": {
        "colab": {
          "base_uri": "https://localhost:8080/"
        },
        "id": "KDcbLgIcFaKB",
        "outputId": "0130cc4e-6752-465d-e9f3-1a2dc2f5b3e1"
      },
      "execution_count": null,
      "outputs": [
        {
          "output_type": "stream",
          "name": "stdout",
          "text": [
            "Farenheit: 107.6\n",
            "°C: 42.0\n"
          ]
        }
      ]
    },
    {
      "cell_type": "markdown",
      "source": [
        "\n",
        "\n",
        "*   Convertir de Farenheit a Kelvin\n",
        "\n"
      ],
      "metadata": {
        "id": "lqcCmMoQHOFS"
      }
    },
    {
      "cell_type": "code",
      "source": [
        "def convertir(f):\n",
        "  return  (f-32)*5/9+273.15"
      ],
      "metadata": {
        "id": "OTc-Z-S6HaCx"
      },
      "execution_count": null,
      "outputs": []
    },
    {
      "cell_type": "code",
      "source": [
        "f = float(input(\"Farenheit: \" ))\n",
        "print(\"K:\", convertir(f))"
      ],
      "metadata": {
        "colab": {
          "base_uri": "https://localhost:8080/"
        },
        "id": "jjLev3nOHlSX",
        "outputId": "107183a0-bbc9-4bfe-9f99-7053277fc54e"
      },
      "execution_count": null,
      "outputs": [
        {
          "output_type": "stream",
          "name": "stdout",
          "text": [
            "Farenheit: 5\n",
            "K: 258.15\n"
          ]
        }
      ]
    },
    {
      "cell_type": "markdown",
      "source": [
        "\n",
        "\n",
        "**Convertir de Celcuis a Kelvin**\n",
        "\n",
        "\n"
      ],
      "metadata": {
        "id": "oFsuchYSIL-X"
      }
    },
    {
      "cell_type": "code",
      "source": [
        "def convertir(c):\n",
        "  return  c + 273.15"
      ],
      "metadata": {
        "id": "9rzrVAfMIVHp"
      },
      "execution_count": null,
      "outputs": []
    },
    {
      "cell_type": "code",
      "source": [
        "c = float(input(\"Celcuis: \" ))\n",
        "print(\"K:\", convertir(f))"
      ],
      "metadata": {
        "colab": {
          "base_uri": "https://localhost:8080/"
        },
        "id": "7gHqBN4lIl_t",
        "outputId": "e6ba43c7-427c-4df6-bff8-09457193ce16"
      },
      "execution_count": null,
      "outputs": [
        {
          "output_type": "stream",
          "name": "stdout",
          "text": [
            "Celcuis: 5\n",
            "K: 278.15\n"
          ]
        }
      ]
    },
    {
      "cell_type": "markdown",
      "source": [
        "\n",
        "\n",
        "*   **Calcular el sueldo mensual de un empleado**\n",
        "\n"
      ],
      "metadata": {
        "id": "NR3LCIzAKG7Y"
      }
    },
    {
      "cell_type": "code",
      "source": [
        "def sueldo(numHrs, valorXhr):\n",
        "  sueldo = numHrs*valorXhr*30\n",
        "  if(numHrs>8):\n",
        "    sueldo += (numHrs-8)*valorXhr*2*30\n",
        "  #isss + afp = 3 + 6.25 = 9.25 = 100 - 9.25 = 90.75/100 = 0.9075\n",
        "  #sueldo = sueldo*0.9075\n",
        "  return sueldo\n"
      ],
      "metadata": {
        "id": "psTgv44HKPo9"
      },
      "execution_count": null,
      "outputs": []
    },
    {
      "cell_type": "code",
      "source": [
        "tabla_isr = [\n",
        "    [0.01, 472, 0, 0],\n",
        "    [472.01, 895.24, 0.1, 17.67],\n",
        "    [895.25, 2038.1, 0.2, 60.00],\n",
        "    [2038.11,9999999, 0.3, 288.57]\n",
        "]"
      ],
      "metadata": {
        "id": "zTr8sfVHKt7b"
      },
      "execution_count": null,
      "outputs": []
    },
    {
      "cell_type": "markdown",
      "source": [
        "FUNCIONES LAMBDA\n",
        "\n",
        "\n",
        "\n",
        "*   FUNCIONES PRECONTRUIDAS MAP, FILTER, FIND, REDUCE, ETC.\n",
        "\n",
        "\n"
      ],
      "metadata": {
        "id": "ghL2tbApHddX"
      }
    },
    {
      "cell_type": "code",
      "source": [
        "def elevarCuadrado(num):\n",
        "  return num**2"
      ],
      "metadata": {
        "id": "2w1kAGG-gaB1"
      },
      "execution_count": null,
      "outputs": []
    },
    {
      "cell_type": "code",
      "source": [
        "data=[2,5,6,8,9]"
      ],
      "metadata": {
        "id": "lC1dNF5tHeWu"
      },
      "execution_count": null,
      "outputs": []
    },
    {
      "cell_type": "code",
      "source": [
        "resp = map(elevarCuadrado, data)\n",
        "print(list(resp))"
      ],
      "metadata": {
        "colab": {
          "base_uri": "https://localhost:8080/"
        },
        "id": "BqaGo1S_HiTW",
        "outputId": "5a0ad775-2eb2-42c1-c852-697f06ebca76"
      },
      "execution_count": null,
      "outputs": [
        {
          "output_type": "stream",
          "name": "stdout",
          "text": [
            "[8, 125, 216, 512, 729]\n"
          ]
        }
      ]
    },
    {
      "cell_type": "markdown",
      "source": [],
      "metadata": {
        "id": "ppRXGPDJJOLW"
      }
    },
    {
      "cell_type": "code",
      "source": [
        "resp = map(lambda n:n**2, data)\n",
        "print(list(resp))"
      ],
      "metadata": {
        "colab": {
          "base_uri": "https://localhost:8080/"
        },
        "id": "NUNJOTv0JQy_",
        "outputId": "3a2369e0-c2e4-492f-ee50-6cd4f310b86e"
      },
      "execution_count": null,
      "outputs": [
        {
          "output_type": "stream",
          "name": "stdout",
          "text": [
            "[35.6, 41.0, 42.8, 46.4, 48.2]\n"
          ]
        }
      ]
    },
    {
      "cell_type": "markdown",
      "source": [],
      "metadata": {
        "id": "U0qqrBtQK_PT"
      }
    },
    {
      "cell_type": "code",
      "source": [
        "resp = filter(lambda n:n>2, data)\n",
        "print( list(resp) )"
      ],
      "metadata": {
        "colab": {
          "base_uri": "https://localhost:8080/"
        },
        "id": "eZ7C6jrcK_6j",
        "outputId": "98d3ed28-114d-4cea-b50d-803c3b3e44bc"
      },
      "execution_count": null,
      "outputs": [
        {
          "output_type": "stream",
          "name": "stdout",
          "text": [
            "[2, 6, 8]\n"
          ]
        }
      ]
    },
    {
      "cell_type": "markdown",
      "source": [],
      "metadata": {
        "id": "TJ8NcB8dLl2h"
      }
    },
    {
      "cell_type": "code",
      "source": [
        "resp = functools.reduce(lambda a,n:a+n, data)\n",
        "print(resp)"
      ],
      "metadata": {
        "colab": {
          "base_uri": "https://localhost:8080/"
        },
        "id": "Yh1w4x3FLoMD",
        "outputId": "4b1c19ff-e3bc-406e-ec7f-e51893a728cf"
      },
      "execution_count": null,
      "outputs": [
        {
          "output_type": "stream",
          "name": "stdout",
          "text": [
            "[5, 9]\n"
          ]
        }
      ]
    },
    {
      "cell_type": "markdown",
      "source": [
        "TUPLAS"
      ],
      "metadata": {
        "id": "C9JO5bAPgrCo"
      }
    },
    {
      "cell_type": "code",
      "source": [
        "semana = (\"domingo\", \"lunes\", \"martes\", \"miercoles\", \"jueves\", \"viernes\", \"sabado\")\n",
        "#semana[0] = \"otro\"\n",
        "print( semana.count(\"domingo\") ) #count cuenta el numero de veces que aparece un elemento en la tupla\n",
        "print( len(semana) )"
      ],
      "metadata": {
        "id": "kP-gC-Lcgrnf"
      },
      "execution_count": null,
      "outputs": []
    },
    {
      "cell_type": "code",
      "source": [
        "meses = [\"ene\", \"feb\", \"mar\", \"abr\", \"may\", \"jun\", \"jul\", \"ago\", \"sep\", \"oct\", \"nov\", \"dic\"]\n",
        "print( meses[-2:] ) #ultimos dos meses del año\n",
        "print( meses[:2] ) #primero dos meses del año\n",
        "\n",
        "meses[0] = \"enero\"\n",
        "\n",
        "print( meses )"
      ],
      "metadata": {
        "id": "0Ymdgk8wguLH"
      },
      "execution_count": null,
      "outputs": []
    },
    {
      "cell_type": "code",
      "source": [
        "materias = [ [\"Progra I\", [5,6,8], [8,7,9], [9,10,9] ], [\"Progra II\"] ]\n",
        "print( materias[1][0] )"
      ],
      "metadata": {
        "id": "i5-pJVeVgvwG"
      },
      "execution_count": null,
      "outputs": []
    },
    {
      "cell_type": "code",
      "source": [
        "materias = {\n",
        "    \"Progra I\": {\n",
        "        \"c1\": {\n",
        "          \"lab1\" : 5,\n",
        "          \"lab2\" : 6,\n",
        "          \"parcial\" : 8\n",
        "      },\n",
        "      \"c2\": {\n",
        "          \"lab1\" : 8,\n",
        "          \"lab2\" : 7,\n",
        "          \"parcial\" : 9\n",
        "      },\n",
        "      \"c3\": {\n",
        "          \"lab1\" : 9,\n",
        "          \"lab2\" : 10,\n",
        "          \"parcial\" : 9\n",
        "      }\n",
        "    },\n",
        "    \"Progra II\" :{\n",
        "\n",
        "    }\n",
        "}\n",
        "print( materias[\"Progra I\"][\"c1\"][\"lab1\"] )"
      ],
      "metadata": {
        "id": "OHg8Ums4gxsW"
      },
      "execution_count": null,
      "outputs": []
    },
    {
      "cell_type": "markdown",
      "source": [
        "Listas"
      ],
      "metadata": {
        "id": "cTKot5KIg1G3"
      }
    },
    {
      "cell_type": "code",
      "source": [
        "data = [2,5,6,8,9]"
      ],
      "metadata": {
        "id": "sofMpP9-g2R2"
      },
      "execution_count": null,
      "outputs": []
    },
    {
      "cell_type": "code",
      "source": [
        "resp = map(lambda n:n**3, data)\n",
        "print(list(resp))"
      ],
      "metadata": {
        "id": "uOJUzsRUg3v2"
      },
      "execution_count": null,
      "outputs": []
    },
    {
      "cell_type": "code",
      "source": [
        "f = map(lambda c:c*9/5 + 32, data)\n",
        "print( list(f) )"
      ],
      "metadata": {
        "id": "mXnm4Ok4g41W"
      },
      "execution_count": null,
      "outputs": []
    },
    {
      "cell_type": "code",
      "source": [
        "pares = filter(lambda n:n%2==0, data)\n",
        "print( list(pares) )"
      ],
      "metadata": {
        "id": "wIciqR9lg6Bq"
      },
      "execution_count": null,
      "outputs": []
    },
    {
      "cell_type": "code",
      "source": [
        "impares = filter(lambda n:n%2!=0, data)\n",
        "print( list(impares) )"
      ],
      "metadata": {
        "id": "OR-uxeuPg7fm"
      },
      "execution_count": null,
      "outputs": []
    },
    {
      "cell_type": "markdown",
      "source": [
        "CiCLOS\n",
        "\n",
        "\n",
        "*   FOR\n",
        "\n"
      ],
      "metadata": {
        "id": "QxbcV160OyrK"
      }
    },
    {
      "cell_type": "code",
      "source": [
        "for item in data:\n",
        "  print(item)"
      ],
      "metadata": {
        "id": "3K-VXmwgOwKA"
      },
      "execution_count": null,
      "outputs": []
    },
    {
      "cell_type": "markdown",
      "source": [
        "\n",
        "\n",
        "*   WHILE\n",
        "\n",
        "\n"
      ],
      "metadata": {
        "id": "4YaXjYKBO-MR"
      }
    },
    {
      "cell_type": "code",
      "source": [
        "i = 0\n",
        "n = len(data)\n",
        "while i<n:\n",
        "  print( data[i])\n",
        "  i+=1"
      ],
      "metadata": {
        "id": "GPSee2-ZPBNJ"
      },
      "execution_count": null,
      "outputs": []
    },
    {
      "cell_type": "markdown",
      "source": [
        "Tablas de multiplicar"
      ],
      "metadata": {
        "id": "wd9CsNeaTZ0E"
      }
    },
    {
      "cell_type": "code",
      "source": [
        "n = int(input(\"N Tabla: \"))\n",
        "\n",
        "for i in range(1,11):\n",
        "  print( n, \"x\", i, \"=\", n*i )"
      ],
      "metadata": {
        "id": "6Z_FDlKKSs7K"
      },
      "execution_count": null,
      "outputs": []
    },
    {
      "cell_type": "code",
      "source": [
        "edad = int(input(\"Edad: \"))\n",
        "\n",
        "if edad<=2:\n",
        "  print(\"soy un bebe\")\n",
        "elif edad<=11:\n",
        "  print(\"Soy un niño\")\n",
        "elif edad<18:\n",
        "  print(\"Soy un adolescente\")\n",
        "elif edad<=65:\n",
        "  print(\"soy mayor de edad\")\n",
        "elif edad<=85:\n",
        "  print(\"Soy un adulto mayor\")\n",
        "else:\n",
        "  print(\"Larga vida\")"
      ],
      "metadata": {
        "id": "O-bUoyh-hDUu"
      },
      "execution_count": null,
      "outputs": []
    },
    {
      "cell_type": "code",
      "source": [
        "lista = [5,8,9,15,7,9,2,3, 2, 1]"
      ],
      "metadata": {
        "id": "Z-I_0maOhFUe"
      },
      "execution_count": null,
      "outputs": []
    },
    {
      "cell_type": "code",
      "source": [
        "mayor = 0\n",
        "for num in lista:\n",
        "  if num>mayor:\n",
        "    mayor = num\n",
        "print(\"EL numero mayor de la lista: \", lista, \"es: \", mayor)"
      ],
      "metadata": {
        "id": "nqpRWwILhG22"
      },
      "execution_count": null,
      "outputs": []
    },
    {
      "cell_type": "code",
      "source": [
        "mayor = 0\n",
        "i=0\n",
        "n=len(lista)\n",
        "while i<n:\n",
        "  if lista[i]>mayor:\n",
        "    mayor = lista[i]\n",
        "  i+=1\n",
        "print(mayor)"
      ],
      "metadata": {
        "id": "cgkwc7AZhIct"
      },
      "execution_count": null,
      "outputs": []
    },
    {
      "cell_type": "markdown",
      "source": [
        "**Escribir un programa que pida la nota de un examen (0-10) e imprima en pantalla la calificacion: \"Suspende\" si la nota es menor que 5, \"Aprobado\" si entre 5 inclusive, y 7 sin incluir, \"Notable\" si esta estre 7 inclusive y 9 sin incluir, \"Sobresaliente\" si esta entree 9 inclusive y 10 sin incluir y \"Honorable\" si es 10**"
      ],
      "metadata": {
        "id": "pvrqfsSLJsKr"
      }
    },
    {
      "cell_type": "code",
      "source": [
        "nota = float(input(\"Escriba la nota del examen: \"))\n",
        "\n",
        "if nota <=0 or nota >10:\n",
        "  print(\"Inserte una nota valida\")\n",
        "\n",
        "\n",
        "elif nota < 5:\n",
        "  print(\"Suspenso\")\n",
        "\n",
        "elif  nota >= 5 and  nota <7:\n",
        "  print(\"Aprobado\")\n",
        "\n",
        "elif nota >=7 and nota <9:\n",
        "  print(\"Notable\")\n",
        "\n",
        "elif nota >=9 and nota <10:\n",
        "  print(\"Sobresaliente\")\n",
        "elif nota == 10:\n",
        "  print(\"Honorable\")\n",
        "\n",
        "\n"
      ],
      "metadata": {
        "id": "uqYPADkgK3Y2"
      },
      "execution_count": null,
      "outputs": []
    },
    {
      "cell_type": "markdown",
      "source": [
        "Escriba un programa que muestre la secuencia fibonacci hasta 100"
      ],
      "metadata": {
        "id": "nKC0NdjOU5cH"
      }
    },
    {
      "cell_type": "code",
      "source": [
        "limit = int(input(\"Limite: \"))\n",
        "a=0\n",
        "b=1\n",
        "c=0\n",
        "while c<limit:\n",
        "  c=a+b\n",
        "  print(f\"{a}\\t+\\t{b}\\t=\\t{c}\")\n",
        "  b=a\n",
        "  a=c\n"
      ],
      "metadata": {
        "id": "IvPafdUeVAxu"
      },
      "execution_count": null,
      "outputs": []
    },
    {
      "cell_type": "markdown",
      "source": [
        "**Ejercicio prácticos - Python**\n",
        "\n",
        "\n",
        "\n",
        "1.   Calcular sobre el sueldo las deducciones por ley ISSS (3%), AFP( 6.25%), ISR(Según tabla) e imprima el total deducciones y sueldo neto. (20%)\n",
        "\n"
      ],
      "metadata": {
        "id": "L1evfB0A_l_w"
      }
    },
    {
      "cell_type": "code",
      "source": [
        "def calcular_deducciones(sueldo_bruto):\n",
        "    # Deducciones porcentuales\n",
        "    isss_porcentaje = 0.03\n",
        "    afp_porcentaje = 0.0625\n",
        "\n",
        "    # Calcular deducciones por ley\n",
        "    isss = sueldo_bruto * isss_porcentaje\n",
        "    afp = sueldo_bruto * afp_porcentaje\n",
        "\n",
        "    # Tabla de ISR ficticia (rango de ingresos, tasa de impuesto)\n",
        "    tabla_isr = [\n",
        "        (0, 0.0),\n",
        "        (500, 0.1),\n",
        "        (1000, 0.15),\n",
        "        (2000, 0.20),\n",
        "        (3000, 0.25)\n",
        "    ]\n",
        "\n",
        "    # Calcular ISR según la tabla\n",
        "    isr = 0\n",
        "    for i in range(1, len(tabla_isr)):\n",
        "        if sueldo_bruto > tabla_isr[i][0]:\n",
        "            isr += (tabla_isr[i][0] - tabla_isr[i - 1][0]) * tabla_isr[i][1]\n",
        "        else:\n",
        "            isr += (sueldo_bruto - tabla_isr[i - 1][0]) * tabla_isr[i][1]\n",
        "            break\n",
        "\n",
        "    # Calcular total de deducciones\n",
        "    total_deducciones = isss + afp + isr\n",
        "\n",
        "    # Calcular sueldo neto\n",
        "    sueldo_neto = sueldo_bruto - total_deducciones\n",
        "\n",
        "    return isss, afp, isr, total_deducciones, sueldo_neto\n",
        "\n",
        "# Obtener sueldo bruto del usuario\n",
        "sueldo_bruto = float(input(\"Ingrese el sueldo: \"))\n",
        "\n",
        "# Calcular deducciones y sueldo neto\n",
        "isss, afp, isr, total_deducciones, sueldo_neto = calcular_deducciones(sueldo_bruto)\n",
        "\n",
        "# Mostrar resultados\n",
        "print(f\"Deducciones por ley:\")\n",
        "print(f\"ISSS: ${isss:.2f}\")\n",
        "print(f\"AFP: ${afp:.2f}\")\n",
        "print(f\"ISR: ${isr:.2f}\")\n",
        "print(f\"Total Deducciones: ${total_deducciones:.2f}\")\n",
        "print(f\"Sueldo Neto: ${sueldo_neto:.2f}\")"
      ],
      "metadata": {
        "id": "W98yDCu0_Nx2",
        "colab": {
          "base_uri": "https://localhost:8080/"
        },
        "outputId": "eaade97b-8f3c-42f9-990c-32c01fca9ba1"
      },
      "execution_count": null,
      "outputs": [
        {
          "output_type": "stream",
          "name": "stdout",
          "text": [
            "Ingrese el sueldo: 960\n",
            "Deducciones por ley:\n",
            "ISSS: $28.80\n",
            "AFP: $60.00\n",
            "ISR: $119.00\n",
            "Total Deducciones: $207.80\n",
            "Sueldo Neto: $752.20\n"
          ]
        }
      ]
    },
    {
      "cell_type": "markdown",
      "source": [
        "\n",
        "2.   Calcular el valor a pagar según el número de metros consumidos de agua potable (Ver tabla en la siguiente diapositiva). (20%)\n",
        "\n"
      ],
      "metadata": {
        "id": "PJHR8WDG_ekH"
      }
    },
    {
      "cell_type": "code",
      "source": [
        "metros = float(input(\"Ingrese los metros consumidos de agua:\"))\n",
        "cuota = 6\n",
        "mt = (28-18)*0.45\n",
        "if 1 <= metros <= 18:\n",
        "   print(f\"Su cuota es de: ${cuota} de sus metros consumidos\")\n",
        "\n",
        "elif 19 <= metros <= 28:\n",
        "   resp = (metros-18)*0.45+cuota\n",
        "   print(f\"Su cuota es de: ${resp} de sus metros consumidos\")\n",
        "elif 29 <= metros:\n",
        "   resp = ((metros-28)*0.65+cuota)+ mt\n",
        "   print(f\"Su cuota es de: ${resp} de sus metros consumidos\")\n",
        "else:\n",
        "  print(\"Ingrese un metodo valido\")"
      ],
      "metadata": {
        "colab": {
          "base_uri": "https://localhost:8080/"
        },
        "id": "u-5jwzBvA_T3",
        "outputId": "f1b7eb76-9e03-4f8c-db0d-da371c4bbc5f"
      },
      "execution_count": null,
      "outputs": [
        {
          "output_type": "stream",
          "name": "stdout",
          "text": [
            "Ingrese los metros consumidos de agua:19\n",
            "Su cuota es de: $6.45 de sus metros consumidos\n"
          ]
        }
      ]
    },
    {
      "cell_type": "markdown",
      "source": [
        "\n",
        "\n",
        "3.   Desarrolle la tabla de meses acumulados a un meses. Si puede encontrar la formula matemática para evitar ciclos. (10%)\n",
        "\n"
      ],
      "metadata": {
        "id": "vPWCWXlOAENm"
      }
    },
    {
      "cell_type": "code",
      "source": [
        "def tabla_meses_acumulados(mes_max):\n",
        "    tabla = {}\n",
        "    for mes in range(1, mes_max + 1):\n",
        "        acumulado = (mes * (mes + 1)) // 2\n",
        "        tabla[mes] = acumulado\n",
        "    return tabla\n",
        "\n",
        "mes_maximo = int(input(\"Ingrese el mes máximo: \"))\n",
        "tabla_resultante = tabla_meses_acumulados(mes_maximo)\n",
        "\n",
        "print(\"Tabla de meses acumulados:\")\n",
        "print(\"Mes\\tAcumulado\")\n",
        "for mes, acumulado in tabla_resultante.items():\n",
        "    print(f\"{mes}\\t{acumulado}\")\n"
      ],
      "metadata": {
        "id": "3-8oUGzWAG6o",
        "colab": {
          "base_uri": "https://localhost:8080/"
        },
        "outputId": "5f343484-c3fb-4387-deba-f922173a1ea5"
      },
      "execution_count": null,
      "outputs": [
        {
          "output_type": "stream",
          "name": "stdout",
          "text": [
            "Ingrese el mes máximo: 15\n",
            "Tabla de meses acumulados:\n",
            "Mes\tAcumulado\n",
            "1\t1\n",
            "2\t3\n",
            "3\t6\n",
            "4\t10\n",
            "5\t15\n",
            "6\t21\n",
            "7\t28\n",
            "8\t36\n",
            "9\t45\n",
            "10\t55\n",
            "11\t66\n",
            "12\t78\n",
            "13\t91\n",
            "14\t105\n",
            "15\t120\n"
          ]
        }
      ]
    },
    {
      "cell_type": "markdown",
      "source": [
        "\n",
        "\n",
        "\n",
        "4.   Conversores: (40%) (10 ítems como mínimo por cada uno)\n",
        "\n"
      ],
      "metadata": {
        "id": "LK0U_PFVDRKY"
      }
    },
    {
      "cell_type": "code",
      "source": [
        "valores = [\n",
        "           [],\n",
        "           [0, 1, 0.85, 23.8, 35.11, 7.74, 8.75, 621.61,4.07,109.83,73.25], #monedas\n",
        "           [0, 1, 100, 0.001, 1000,0.000621371,1.09361,3.28084,39.3701,0.000539957,1e+6],#Longitud\n",
        "           [0,1,1000,0.001,1e+6,1e+9,0.000984207,0.00110231,0.157473,2.20462,35.274],#Masa\n",
        "           [0,0.25,0.000125,1.25e-7,1.25e-10,1.25e-13,1.25e-16,1.25e-19,1.25e-22,1.25e-25],#Almacenamiento\n",
        "           [0,1,60,60000,6e+7,6e+10,0.0166666667,0.000694444,9.92063e-5,2.28311e-5,1.9026e-6],#Tiempo\n",
        "           [0,1,0.001,0.219969,0.879877,1.75975,3.51951,35.1951,56.3121,0.0353147,61.0237],#Volumen\n",
        "           [0,1e-6,3.861e-7,1.19599,10.7639,1550,1e-4,0.000247105,1000000 ]#Area\n",
        "]\n",
        "etiquetas = [\n",
        "           [],\n",
        "           [\"1. Dolar\",\n",
        "            \"2. Euro\",\n",
        "            \"3. Lempira\",\n",
        "            \"4. Cordobas\",\n",
        "            \"5. Quetzalez\",\n",
        "            \"6. Colon SV\",\n",
        "            \"7. Colon CR\",\n",
        "            \"8. Sol Peruano\",\n",
        "            \"9. Yen Japones\",\n",
        "            \"10. Rublo Ruso\"],\n",
        "           [\"1. Metro\", \"2. Centimetro\", \"3. Kilometro\",\"4. Milimetro\", \"5. Milla\", \"6. Yarda\",\"7. Pie\",\"8. Pulgada\",\"9. Milla Nautica\",\"10. Micrometro\"],\n",
        "           [\"1. Kilogramo\",\"2. Gramo\",\"3. Tonelada\",\"4. Miligramo\",\"5. Microgramo\", \"6. Tonelada larga\",\"7. Tonelada corta\",\"8. Stone\", \"9. Libra\", \"10. Onza\"],\n",
        "           [\"1. Bit\",\"2. Byte\", \"3. Kilobyte\", \"4. Megabyte\", \"5. Gigabyte\", \"6. Terabyte\", \"7. Petabyte\", \"8. Exabyte\", \"9. Zettabyte\", \"10. Yottabyte\"],\n",
        "           [\"1. Minuto\", \"2. Segundo\",\"3. Milisegundo\",\"4.Microsegundo\",\"5. Nanosegundo\",\"6. Hora\",\"7. Dia\",\"8. Semana\",\"9. Mes\",\"10. año\"],\n",
        "           [\"1. Litro\",\"2. Metro Cubico\",\"3. Galon imperia\",\"4. Cuarto imperial\",\"5. Pinta imperial\",\"6. Taza imperial\",\"7. Onza liquida imperial\",\"8. Cucharada imperial\",\"9. Pie cubico\",\"10. Pulgada cubica\" ],\n",
        "           [\"1. Metro cuadrado\",\"2. Kilometro cuadrado\",\"3. Milla cuadrada\",\"5. Yarda cuadrada\",\"6. Pie cuadrado\",\"7. Pulgada cuadrada\",\"8. Hectarea\",\"9. Acre\",\"Milimetros cuadrados\"]\n",
        "]\n",
        "def convertir(conversor, de, a, cantidad):\n",
        "  return valores[conversor][a]/valores[conversor][de] * cantidad\n",
        "\n",
        "print(\"*** MENU ***\")\n",
        "print(\"* 1. Monedas\")\n",
        "print(\"* 2. Longitud\")\n",
        "print(\"* 3. Masa\")\n",
        "print(\"* 4. Almacenamiento\")\n",
        "print(\"* 5. Tiempo\")\n",
        "print(\"* 6. Volumen\")\n",
        "print(\"* 7. Area\")\n",
        "\n",
        "\n",
        "conversor = int(input(\"Que quieres utilizar: \"))\n",
        "\n",
        "if conversor < 8:\n",
        "\n",
        "  print( etiquetas[conversor] )\n",
        "\n",
        "\n",
        "\n",
        "  de = int(input(\"DE: \"))\n",
        "  a = int(input(\"A: \"))\n",
        "  cantidad = float(input(\"Cant: \"))\n",
        "\n",
        "  print(\"Respuesta: \", convertir(conversor, de, a, cantidad) )\n",
        "\n",
        "else:\n",
        "  print(\"Ingrese una opcion valida\")\n",
        "\n",
        "\n"
      ],
      "metadata": {
        "id": "u7jxXViEDXW4",
        "colab": {
          "base_uri": "https://localhost:8080/"
        },
        "outputId": "16e8d865-4343-4846-d145-6b5b7b4a23bc"
      },
      "execution_count": null,
      "outputs": [
        {
          "output_type": "stream",
          "name": "stdout",
          "text": [
            "*** MENU ***\n",
            "* 1. Monedas\n",
            "* 2. Longitud\n",
            "* 3. Masa\n",
            "* 4. Almacenamiento\n",
            "* 5. Tiempo\n",
            "* 6. Volumen\n",
            "* 7. Area\n",
            "Que quieres utilizar: 2\n",
            "['1. Metro', '2. Centimetro', '3. Kilometro', '4. Milimetro', '5. Milla', '6. Yarda', '7. Pie', '8. Pulgada', '9. Milla Nautica', '10. Micrometro']\n",
            "DE: 6\n",
            "A: 2\n",
            "Cant: 1\n",
            "Respuesta:  91.44027578387177\n"
          ]
        }
      ]
    },
    {
      "cell_type": "markdown",
      "source": [
        "\n",
        "\n",
        "5.   Realizar un conversor propio, donde espesifique el valor de conversión: (10%) • 1 caja -> 25 unidad. Viceversa 80 unidades – 3/5 -> cajas/unidades • 1 saco -> 50 libras. Viceversa 130 libras – 2/30 -> sacos/libras • 1 fardo -> 5 unidades. Viceversa 28 unidades – 5/3 -> fardos/unidades\n",
        "\n",
        "\n"
      ],
      "metadata": {
        "id": "rLt2CSXEFERo"
      }
    },
    {
      "cell_type": "code",
      "source": [
        "def cajas_to_unidades(cajas):\n",
        "    return cajas * 25\n",
        "\n",
        "def unidades_to_cajas(unidades):\n",
        "    return unidades / 25\n",
        "\n",
        "def sacos_to_libras(sacos):\n",
        "    return sacos * 50\n",
        "\n",
        "def libras_to_sacos(libras):\n",
        "    return libras / 50\n",
        "\n",
        "def fardos_to_unidades(fardos):\n",
        "    return fardos * 5\n",
        "\n",
        "def unidades_to_fardos(unidades):\n",
        "    return unidades / 5\n",
        "\n",
        "\n",
        "print(\"------Menu---------\")\n",
        "print(\"1. Conversión de cajas a unidades y viceversa\")\n",
        "print(\"2. Conversión de sacos a libras y viceversa\")\n",
        "print(\"3. Conversión de fardos a unidades y viceversa\")\n",
        "\n",
        "covers = int(input(\"Que Quieres hacer: \"))\n",
        "\n",
        "if covers < 4:\n",
        "\n",
        "  if covers == 1 :\n",
        "\n",
        "    print(\"\")\n",
        "    print(\"Conversión de cajas a unidades y viceversa\")\n",
        "\n",
        "    # Conversión de cajas a unidades y viceversa\n",
        "\n",
        "\n",
        "    print(\"        1. Cajas a unidades\")\n",
        "    print(\"        2. Unidades a cajas\")\n",
        "    cajas = int(input(\"Que quieres hacer: \"))\n",
        "\n",
        "\n",
        "    if cajas == 1:\n",
        "      cajas = float(input(\"Introduce el número de cajas: \"))\n",
        "      unidades = cajas_to_unidades(cajas)\n",
        "      print(f\"{cajas} cajas equivalen a {unidades} unidades.\")\n",
        "    elif cajas == 2:\n",
        "      unidades_input = float(input(\"Introduce el número de unidades: \"))\n",
        "      cajas_output = unidades_to_cajas(unidades_input)\n",
        "      print(f\"{unidades_input} unidades equivalen a {cajas_output} cajas.\")\n",
        "    else:\n",
        "      print(\"Error\")\n",
        "\n",
        "\n",
        "\n",
        "\n",
        "  elif covers == 2:\n",
        "    print(\"\")\n",
        "    print(\"Conversión de sacos a libras y viceversa\")\n",
        "    print(\"        1. Sacos a libras\")\n",
        "    print(\"        2. Libras a sacos\")\n",
        "    sacos = int(input(\"Que quieres hacer: \"))\n",
        "\n",
        "\n",
        "    if sacos == 1:\n",
        "      # Conversión de sacos a libras y viceversa\n",
        "      sacos = float(input(\"Introduce el número de sacos: \"))\n",
        "      libras = sacos_to_libras(sacos)\n",
        "      print(f\"{sacos} sacos equivalen a {libras} libras.\")\n",
        "\n",
        "    elif sacos == 2:\n",
        "      libras_input = float(input(\"Introduce el número de libras: \"))\n",
        "      sacos_output = libras_to_sacos(libras_input)\n",
        "      print(f\"{libras_input} libras equivalen a {sacos_output} sacos.\")\n",
        "    else:\n",
        "      print(\"Error\")\n",
        "\n",
        "\n",
        "  elif covers == 3:\n",
        "   print(\"\")\n",
        "   print(\"Conversión de fardos a unidades y viceversa\")\n",
        "   print(\"        1. Fardos a unidades\")\n",
        "   print(\"        2. Unidades a fardos\")\n",
        "   fardos = int(input(\"Que quieres hacer: \"))\n",
        "\n",
        "   if fardos == 1:\n",
        "\n",
        "      # Conversión de fardos a unidades y viceversa\n",
        "      fardos = float(input(\"Introduce el número de fardos: \"))\n",
        "      unidades_fardos = fardos_to_unidades(fardos)\n",
        "      print(f\"{fardos} fardos equivalen a {unidades_fardos} unidades.\")\n",
        "\n",
        "   elif fardos == 2:\n",
        "\n",
        "      unidades_input_fardos = float(input(\"Introduce el número de unidades: \"))\n",
        "      fardos_output = unidades_to_fardos(unidades_input_fardos)\n",
        "      print(f\"{unidades_input_fardos} unidades equivalen a {fardos_output} fardos.\")\n",
        "\n",
        "   else:\n",
        "    print(\"Erro\")\n",
        "\n",
        "else:\n",
        "  print(\"Ingrese una option valida\")"
      ],
      "metadata": {
        "id": "021LsH5gFCHY"
      },
      "execution_count": null,
      "outputs": []
    },
    {
      "cell_type": "markdown",
      "source": [
        "\n",
        "\n",
        "1.   Escriba un programa que encuentre la media aritmetica de una serie de numeros introducidos por el usuario\n",
        "2.   Escriba un programa que determine si una palabra introducida por el usuario es palindrome o no, ejm. de palabras palindrome: Ana, oso, oro, etc.\n",
        "3. Escriba un programa que convierta un numero instroducido por el usuario a su equivalente en numeros romanos. Ejm: 5 -> V\n",
        "\n"
      ],
      "metadata": {
        "id": "6KLC9kh9h3Jc"
      }
    },
    {
      "cell_type": "markdown",
      "source": [
        "PROGRAMACION ORIENTADA A OBJETOS.\n",
        "\n",
        "\n",
        "\n",
        "*   Clase\n",
        "\n"
      ],
      "metadata": {
        "id": "w_laKjw3h9cE"
      }
    },
    {
      "cell_type": "code",
      "source": [
        "class Calculadora:\n",
        "  def sumar(sefl, num1, num2):\n",
        "    return num1 + num2"
      ],
      "metadata": {
        "id": "Ishs6eRniUlE"
      },
      "execution_count": null,
      "outputs": []
    },
    {
      "cell_type": "markdown",
      "source": [
        "\n",
        "\n",
        "*   INSTANCIA DE UNA CLASE\n",
        "\n",
        "\n"
      ],
      "metadata": {
        "id": "CLdJ4apZicET"
      }
    },
    {
      "cell_type": "code",
      "source": [
        "objCalculadora = Calculadora()"
      ],
      "metadata": {
        "id": "GzMvvB5YiWd7"
      },
      "execution_count": null,
      "outputs": []
    },
    {
      "cell_type": "markdown",
      "source": [
        "\n",
        "\n",
        "*   OBJETO\n",
        "\n",
        "\n"
      ],
      "metadata": {
        "id": "2Ab7sqWmiddb"
      }
    },
    {
      "cell_type": "code",
      "source": [
        "print( \"La suma de 5 + 3 = \", objCalculadora.sumar(5,3) )"
      ],
      "metadata": {
        "id": "UlnLUhNeiXwz"
      },
      "execution_count": null,
      "outputs": []
    },
    {
      "cell_type": "markdown",
      "source": [
        "# **PARCIAL 1 - SALVADOR ERNESTO ANDRADE PEÑA**"
      ],
      "metadata": {
        "id": "NK6tPl1vsFc4"
      }
    },
    {
      "cell_type": "markdown",
      "source": [
        "1. Desarrolle  un  algoritmo  en  Python  que  calcule  el  IMPUESTO  A  LAS ACTIVIDADES ECONOMICAS de acuerdo con la siguiente tabla.\n",
        "El monto de la actividad económica debe ser introducido por el usuario. (30%)"
      ],
      "metadata": {
        "id": "MO9sNzcAtxPQ"
      }
    },
    {
      "cell_type": "code",
      "source": [
        "\n",
        "def calcImpuesto(monto):\n",
        "\n",
        "  valores = [[],\n",
        "             [0, 0.01, 500.01, 1000.01, 2000.01, 3000.01, 8000.01, 18000.01, 30000.01, 60000.01, 100000.01, 200000.01, 300000.01, 400000.01, 500000.01, 1000000.01], #Desde\n",
        "             [0, 1.5, 3, 6, 9, 15, 39, 63, 93, 125, 195, 255, 300, 340, 490], #Precio\n",
        "             [0, 3, 2, 1, 0.8, 0.7, 0.6, 0.45, 0.4, 0.30, 0.18]] #Adicional\n",
        "\n",
        "#monto - desde / 1000 * adicional + precio\n",
        "\n",
        "  if monto >= 0.01 and monto <= 500:\n",
        "    print(\"Numero 1\")\n",
        "    total = round((monto-valores[1][1])/1000*valores[3][0]+valores[2][1], 2)\n",
        "    print(\"Total a pagar: $\", total)\n",
        "\n",
        "  elif monto >= 500.01 and monto <= 1000:\n",
        "    print(\"Numero 2\")\n",
        "    total = round((monto-valores[1][2])/1000*valores[3][1]+valores[2][1], 2)\n",
        "    print(\"Total a pagar: $\", total)\n",
        "\n",
        "  elif monto >= 1000.01 and monto <= 2000:\n",
        "    print(\"Numero 3\")\n",
        "    total = round((monto-valores[1][3])/1000*valores[3][1]+valores[2][2], 2)\n",
        "    print(\"Total a pagar: $\", total)\n",
        "\n",
        "  elif monto >= 2000.01 and monto <= 3000:\n",
        "    print(\"Numero 4\")\n",
        "    total = round((monto-valores[1][4])/1000*valores[3][1]+valores[2][3], 2)\n",
        "    print(\"Total a pagar: $\", total)\n",
        "\n",
        "  elif monto >= 3000.01 and monto <= 6000:\n",
        "    print(\"Numero 5\")\n",
        "    total = round((monto-valores[1][5])/1000*valores[3][2]+valores[2][4], 2)\n",
        "    print(\"Total a pagar: $\", total)\n",
        "\n",
        "  elif monto >= 8000.01 and monto <= 18000:\n",
        "    print(\"Numero 6\")\n",
        "    total = round((monto-valores[1][6])/1000*valores[3][2]+valores[2][5], 2)\n",
        "    print(\"Total a pagar: $\", total)\n",
        "\n",
        "  elif monto >= 18000.01 and monto <= 30000:\n",
        "    print(\"Numero 7\")\n",
        "    total = round((monto-valores[1][7])/1000*valores[3][2]+valores[2][6], 2)\n",
        "    print(\"Total a pagar: $\", total)\n",
        "\n",
        "  elif monto >= 30000.01 and monto <= 60000:\n",
        "    print(\"Numero 8\")\n",
        "    total = round((monto-valores[1][8])/1000*valores[3][3]+valores[2][7], 2)\n",
        "    print(\"Total a pagar: $\", total)\n",
        "\n",
        "  elif monto >= 60000.01 and monto <= 100000:\n",
        "    print(\"Numero 9\")\n",
        "    total = round((monto-valores[1][9])/1000*valores[3][4]+valores[2][8], 2)\n",
        "    print(\"Total a pagar: $\", total)\n",
        "\n",
        "  elif monto >= 100000.01 and monto <= 200000:\n",
        "    print(\"Numero 10\")\n",
        "    total = round((monto-valores[1][10])/1000*valores[3][5]+valores[2][9], 2)\n",
        "    print(\"Total a pagar: $\", total)\n",
        "\n",
        "  elif monto >= 200000.01 and monto <= 300000:\n",
        "    print(\"Numero 11\")\n",
        "    total = round((monto-valores[1][11])/1000*valores[3][6]+valores[2][10], 2)\n",
        "    print(\"Total a pagar: $\", total)\n",
        "\n",
        "  elif monto >= 300000.01 and monto <= 400000:\n",
        "    print(\"Numero 12\")\n",
        "    total = round((monto-valores[1][12])/1000*valores[3][7]+valores[2][11], 2)\n",
        "    print(\"Total a pagar: $\", total)\n",
        "\n",
        "  elif monto >= 400000.01 and monto <= 500000:\n",
        "    print(\"Numero 13\")\n",
        "    total = round((monto-valores[1][13])/1000*valores[3][8]+valores[2][12], 2)\n",
        "    print(\"Total a pagar: $\", total)\n",
        "\n",
        "  elif monto >= 500000.01 and monto <= 1000000:\n",
        "    print(\"Numero 14\")\n",
        "    total = round((monto-valores[1][14])/1000*valores[3][9]+valores[2][13], 2)\n",
        "    print(\"Total a pagar: $\", total)\n",
        "\n",
        "  elif monto >= 1000000.01 and monto <= 99999999:\n",
        "    print(\"Numero 15\")\n",
        "    total = round((monto-valores[1][15])/1000*valores[3][10]+valores[2][14], 2)\n",
        "    print(\"Total a pagar: $\", total)\n",
        "\n",
        "monto = float(input(\"Escribe el monto que deseas pagar: \"))\n",
        "calcImpuesto(monto)"
      ],
      "metadata": {
        "colab": {
          "base_uri": "https://localhost:8080/"
        },
        "id": "z76Wz-jthjRw",
        "outputId": "f141a9bf-68cb-46ed-ed44-9e7d7ad2cdad"
      },
      "execution_count": null,
      "outputs": [
        {
          "output_type": "stream",
          "name": "stdout",
          "text": [
            "Escribe el monto que deseas pagar: 20000\n",
            "Numero 7\n",
            "Total a pagar: $ 43.0\n"
          ]
        }
      ]
    },
    {
      "cell_type": "code",
      "source": [
        "{\n",
        "  \"saludos\": [\n",
        "    \"Hola\",\n",
        "    \"¿Cómo estás?\",\n",
        "    \"Hola, ¿en qué puedo ayudarte?\"\n",
        "  ],\n",
        "  \"despedidas\": [\n",
        "    \"Adiós\",\n",
        "    \"Hasta luego\",\n",
        "    \"Hasta la vista\"\n",
        "  ]\n",
        "}\n"
      ],
      "metadata": {
        "colab": {
          "base_uri": "https://localhost:8080/"
        },
        "id": "GDy3mCrYfnZE",
        "outputId": "4e7702e8-3d6d-4e74-82b4-f7a3b6e7ca63"
      },
      "execution_count": null,
      "outputs": [
        {
          "output_type": "execute_result",
          "data": {
            "text/plain": [
              "{'saludos': ['Hola', '¿Cómo estás?', 'Hola, ¿en qué puedo ayudarte?'],\n",
              " 'despedidas': ['Adiós', 'Hasta luego', 'Hasta la vista']}"
            ]
          },
          "metadata": {},
          "execution_count": 1
        }
      ]
    },
    {
      "cell_type": "code",
      "source": [
        "import json\n",
        "import random\n",
        "import nltk\n",
        "from nltk.tokenize import word_tokenize\n",
        "from jinja2 import Template\n",
        "\n",
        "# Descarga los datos de NLTK necesarios\n",
        "nltk.download(\"punkt\")\n",
        "\n",
        "# Cargar el conjunto de datos de preguntas y respuestas\n",
        "with open(\"dataset.json\", \"r\") as file:\n",
        "    dataset = json.load(file)\n",
        "\n",
        "# Plantillas de respuesta\n",
        "responses = {\n",
        "    \"saludos\": Template(random.choice(dataset[\"saludos\"])),\n",
        "    \"despedidas\": Template(random.choice(dataset[\"despedidas\"]))\n",
        "}\n",
        "\n",
        "def responder_pregunta(pregunta):\n",
        "    # Tokeniza la pregunta en palabras\n",
        "    palabras = word_tokenize(pregunta)\n",
        "\n",
        "    # Busca la intención de la pregunta\n",
        "    if \"hola\" in palabras or \"buenos\" in palabras:\n",
        "        return responses[\"saludos\"].render()\n",
        "    elif \"adiós\" in palabras:\n",
        "        return responses[\"despedidas\"].render()\n",
        "    else:\n",
        "        return \"Lo siento, no entiendo tu pregunta.\"\n",
        "\n",
        "# Loop principal del chatbot\n",
        "while True:\n",
        "    usuario_input = input(\"Usuario: \")\n",
        "    respuesta = responder_pregunta(usuario_input)\n",
        "    print(\"Chatbot:\", respuesta)\n"
      ],
      "metadata": {
        "id": "L9rGllzzfqM0"
      },
      "execution_count": null,
      "outputs": []
    }
  ]
}